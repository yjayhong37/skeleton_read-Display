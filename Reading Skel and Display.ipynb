{
 "cells": [
  {
   "cell_type": "code",
   "execution_count": null,
   "id": "infrared-watts",
   "metadata": {},
   "outputs": [],
   "source": [
    "import os\n",
    "import numpy as np\n",
    "import matplotlib.pyplot as plt\n",
    "from mpl_toolkits.mplot3d import Axes3D"
   ]
  },
  {
   "cell_type": "code",
   "execution_count": null,
   "id": "genuine-russian",
   "metadata": {},
   "outputs": [],
   "source": [
    "def read_skeleton(file):\n",
    "    with open(file, 'r') as f:\n",
    "        skeleton_sequence = {}\n",
    "        skeleton_sequence['numFrame'] = int(f.readline())\n",
    "        skeleton_sequence['frameInfo'] = []\n",
    "        for t in range(skeleton_sequence['numFrame']):\n",
    "            frame_info = {}\n",
    "            frame_info['numBody'] = int(f.readline())\n",
    "            frame_info['bodyInfo'] = []\n",
    "            for m in range(frame_info['numBody']):\n",
    "                body_info = {}\n",
    "                body_info_key = [\n",
    "                    'bodyID', 'clipedEdges', 'handLeftConfidence',\n",
    "                    'handLeftState', 'handRightConfidence', 'handRightState',\n",
    "                    'isResticted', 'leanX', 'leanY', 'trackingState'\n",
    "                ]\n",
    "                body_info = {\n",
    "                    k: float(v)\n",
    "                    for k, v in zip(body_info_key, f.readline().split())\n",
    "                }\n",
    "                body_info['numJoint'] = int(f.readline())\n",
    "                body_info['jointInfo'] = []\n",
    "                for v in range(body_info['numJoint']):\n",
    "                    joint_info_key = [\n",
    "                        'x', 'y', 'z', 'depthX', 'depthY', 'colorX', 'colorY',\n",
    "                        'orientationW', 'orientationX', 'orientationY',\n",
    "                        'orientationZ', 'trackingState'\n",
    "                    ]\n",
    "                    joint_info = {\n",
    "                        k: float(v)\n",
    "                        for k, v in zip(joint_info_key, f.readline().split())\n",
    "                    }\n",
    "                    body_info['jointInfo'].append(joint_info)\n",
    "                frame_info['bodyInfo'].append(body_info)\n",
    "            skeleton_sequence['frameInfo'].append(frame_info)\n",
    "    return skeleton_sequence"
   ]
  },
  {
   "cell_type": "code",
   "execution_count": null,
   "id": "bigger-cleaning",
   "metadata": {},
   "outputs": [],
   "source": [
    "def read_xyz(file, max_body=2, num_joint=25):\n",
    "    seq_info = read_skeleton(file)\n",
    "    data = np.zeros((3, seq_info['numFrame'], num_joint, max_body))\n",
    "    for n, f in enumerate(seq_info['frameInfo']):\n",
    "        for m, b in enumerate(f['bodyInfo']):\n",
    "            for j, v in enumerate(b['jointInfo']):\n",
    "                if m < max_body and j < num_joint:\n",
    "                    data[:, n, j, m] = [v['x'], v['y'], v['z']]\n",
    "                else:\n",
    "                    pass\n",
    "    return data"
   ]
  },
  {
   "cell_type": "code",
   "execution_count": null,
   "id": "enabling-effect",
   "metadata": {},
   "outputs": [],
   "source": [
    "data_path = 'the folder where skeleton data is '\n",
    "point = read_xyz(data_path)   # shape (3, num_frames, joints, 2)\n",
    "print('read data done!')"
   ]
  },
  {
   "cell_type": "code",
   "execution_count": null,
   "id": "single-hospital",
   "metadata": {},
   "outputs": [],
   "source": [
    "xmax = np.max(point[0, :, :, :]) + 0.5\n",
    "xmin = np.min(point[0, :, :, :]) - 0.5\n",
    "ymax = np.max(point[1, :, :, :]) + 0.3\n",
    "ymin = np.min(point[1, :, :, :]) - 0.3\n",
    "zmax = np.max(point[2, :, :, :])\n",
    "zmin = np.min(point[2, :, :, :])"
   ]
  },
  {
   "cell_type": "code",
   "execution_count": null,
   "id": "ready-breakfast",
   "metadata": {},
   "outputs": [],
   "source": [
    "row = point.shape[1]\n",
    "print(point.shape)"
   ]
  },
  {
   "cell_type": "code",
   "execution_count": null,
   "id": "protective-devon",
   "metadata": {},
   "outputs": [],
   "source": [
    "arms = [23, 11, 10, 9, 8, 20, 4, 5, 6, 7, 21]\n",
    "rightHand = [11, 24]\n",
    "leftHand = [7, 22]\n",
    "legs = [19, 18, 17, 16, 0, 12, 13, 14, 15]\n",
    "body = [3, 2, 20, 1, 0]"
   ]
  },
  {
   "cell_type": "code",
   "execution_count": null,
   "id": "naval-tragedy",
   "metadata": {},
   "outputs": [],
   "source": [
    "n = 0     \n",
    "m = row   \n",
    "plt.figure()\n",
    "plt.ion()"
   ]
  },
  {
   "cell_type": "code",
   "execution_count": null,
   "id": "medieval-violence",
   "metadata": {},
   "outputs": [],
   "source": [
    "for i in range(n, m):\n",
    "    plt.cla()\n",
    "    plt.scatter(point[0, i, :, :], point[1, i, :, :], c='red', s=40.0)\n",
    "    plt.plot(point[0, i, arms, 0], point[1, i, arms, 0], c='green', lw=2.0)\n",
    "    plt.plot(point[0, i, rightHand, 0], point[1, i, rightHand, 0], c='green', lw=2.0)\n",
    "    plt.plot(point[0, i, leftHand, 0], point[1, i, leftHand, 0], c='green', lw=2.0)\n",
    "    plt.plot(point[0, i, legs, 0], point[1, i, legs, 0], c='green', lw=2.0)\n",
    "    plt.plot(point[0, i, body, 0], point[1, i, body, 0], c='green', lw=2.0)\n",
    "     \n",
    "    plt.plot(point[0, i, arms, 1], point[1, i, arms, 1], c='green', lw=2.0)\n",
    "    plt.plot(point[0, i, rightHand, 1], point[1, i, rightHand, 1], c='green', lw=2.0)\n",
    "    plt.plot(point[0, i, leftHand, 1], point[1, i, leftHand, 1], c='green', lw=2.0)\n",
    "    plt.plot(point[0, i, legs, 1], point[1, i, legs, 1], c='green', lw=2.0)\n",
    "    plt.plot(point[0, i, body, 1], point[1, i, body, 1], c='green', lw=2.0)\n",
    "     \n",
    "    plt.text(xmax-0.5, ymax-0.1, 'frame: {}/{}'.format(i, row-1))\n",
    "    # plt.text(xmax-0.8, ymax-0.4, 'label: ' + str(label[i]))\n",
    "    plt.xlim(xmin, xmax)\n",
    "    plt.ylim(ymin, ymax)\n",
    "    plt.pause(0.001)\n",
    "\n",
    "plt.ioff()\n",
    "plt.show()"
   ]
  },
  {
   "cell_type": "code",
   "execution_count": null,
   "id": "quarterly-airline",
   "metadata": {},
   "outputs": [],
   "source": []
  }
 ],
 "metadata": {
  "kernelspec": {
   "display_name": "pytorch0208",
   "language": "python",
   "name": "pytorch"
  },
  "language_info": {
   "codemirror_mode": {
    "name": "ipython",
    "version": 3
   },
   "file_extension": ".py",
   "mimetype": "text/x-python",
   "name": "python",
   "nbconvert_exporter": "python",
   "pygments_lexer": "ipython3",
   "version": "3.7.9"
  }
 },
 "nbformat": 4,
 "nbformat_minor": 5
}
